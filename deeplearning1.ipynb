{
 "cells": [
  {
   "cell_type": "code",
   "execution_count": 2,
   "metadata": {},
   "outputs": [
    {
     "data": {
      "text/plain": [
       "int"
      ]
     },
     "execution_count": 2,
     "metadata": {},
     "output_type": "execute_result"
    }
   ],
   "source": [
    "usia = 20\n",
    "type(usia)"
   ]
  },
  {
   "cell_type": "code",
   "execution_count": 8,
   "metadata": {},
   "outputs": [
    {
     "data": {
      "text/plain": [
       "float"
      ]
     },
     "execution_count": 8,
     "metadata": {},
     "output_type": "execute_result"
    }
   ],
   "source": [
    "usia = 20.5\n",
    "type(usia)"
   ]
  },
  {
   "cell_type": "code",
   "execution_count": 20,
   "metadata": {},
   "outputs": [
    {
     "data": {
      "text/plain": [
       "bool"
      ]
     },
     "execution_count": 20,
     "metadata": {},
     "output_type": "execute_result"
    }
   ],
   "source": [
    "usia = True\n",
    "type(usia)"
   ]
  },
  {
   "cell_type": "code",
   "execution_count": 24,
   "metadata": {},
   "outputs": [
    {
     "name": "stdout",
     "output_type": "stream",
     "text": [
      "biodata\n",
      " Duhita Manohara \n",
      " 23 \n",
      " Berenang\n"
     ]
    }
   ],
   "source": [
    "namaDepan = \"Duhita\"\n",
    "namaBelakang = \"Manohara\"\n",
    "nama = namaDepan + \" \" + namaBelakang\n",
    "umur = 23\n",
    "hobi = \"Berenang\"\n",
    "print (\"biodata\\n\", nama, \"\\n\", umur, \"\\n\", hobi)"
   ]
  },
  {
   "cell_type": "code",
   "execution_count": 26,
   "metadata": {},
   "outputs": [
    {
     "name": "stdout",
     "output_type": "stream",
     "text": [
      "16\n"
     ]
    }
   ],
   "source": [
    "apel = 7\n",
    "jeruk = 9\n",
    "buah = apel + jeruk \n",
    "print(buah)\n"
   ]
  },
  {
   "cell_type": "code",
   "execution_count": 27,
   "metadata": {},
   "outputs": [
    {
     "name": "stdout",
     "output_type": "stream",
     "text": [
      "Sisa hutang Anda adalah  5000\n"
     ]
    }
   ],
   "source": [
    "hutang = 10000\n",
    "bayar = 5000\n",
    "sisaHutang = hutang - bayar\n",
    "print(\"Sisa hutang Anda adalah \", sisaHutang)"
   ]
  },
  {
   "cell_type": "code",
   "execution_count": 28,
   "metadata": {},
   "outputs": [
    {
     "name": "stdout",
     "output_type": "stream",
     "text": [
      "120\n"
     ]
    }
   ],
   "source": [
    "panjang = 15\n",
    "lebar = 8\n",
    "luas = panjang * lebar\n",
    "print(luas)"
   ]
  },
  {
   "cell_type": "code",
   "execution_count": 29,
   "metadata": {},
   "outputs": [
    {
     "name": "stdout",
     "output_type": "stream",
     "text": [
      "Setiap anak akan mendapatkan bagian kue sebanyak  4.0\n"
     ]
    }
   ],
   "source": [
    "kue = 16\n",
    "anak = 4\n",
    "kuePerAnak = kue / anak\n",
    "print(\"Setiap anak akan mendapatkan bagian kue sebanyak \", kuePerAnak)"
   ]
  },
  {
   "cell_type": "code",
   "execution_count": 30,
   "metadata": {},
   "outputs": [
    {
     "name": "stdout",
     "output_type": "stream",
     "text": [
      "Sisa bagi dari bilangan  14  dan  5  adalah  4\n"
     ]
    }
   ],
   "source": [
    "bilangan1 = 14\n",
    "bilangan2 = 5\n",
    "hasil = bilangan1 % bilangan2\n",
    "print(\"Sisa bagi dari bilangan \", bilangan1, \" dan \", bilangan2, \" adalah \", hasil)"
   ]
  },
  {
   "cell_type": "code",
   "execution_count": 31,
   "metadata": {},
   "outputs": [
    {
     "name": "stdout",
     "output_type": "stream",
     "text": [
      "64\n"
     ]
    }
   ],
   "source": [
    "bilangan3 = 8\n",
    "bilangan4 = 2\n",
    "hasilPangkat = bilangan3 ** bilangan4\n",
    "print(hasilPangkat)"
   ]
  },
  {
   "cell_type": "code",
   "execution_count": 32,
   "metadata": {},
   "outputs": [
    {
     "name": "stdout",
     "output_type": "stream",
     "text": [
      "3\n"
     ]
    }
   ],
   "source": [
    "bilangan5 = 10\n",
    "bilangan6 = 3\n",
    "hasil = bilangan5 // bilangan6\n",
    "print(hasil)"
   ]
  },
  {
   "cell_type": "code",
   "execution_count": null,
   "metadata": {},
   "outputs": [],
   "source": []
  }
 ],
 "metadata": {
  "kernelspec": {
   "display_name": "Python 3",
   "language": "python",
   "name": "python3"
  },
  "language_info": {
   "codemirror_mode": {
    "name": "ipython",
    "version": 3
   },
   "file_extension": ".py",
   "mimetype": "text/x-python",
   "name": "python",
   "nbconvert_exporter": "python",
   "pygments_lexer": "ipython3",
   "version": "3.6.2"
  }
 },
 "nbformat": 4,
 "nbformat_minor": 2
}
